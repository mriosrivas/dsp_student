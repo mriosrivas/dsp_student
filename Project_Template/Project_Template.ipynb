{
 "cells": [
  {
   "cell_type": "markdown",
   "metadata": {},
   "source": [
    "# Project Title\n",
    "Present a brief introduction about your project."
   ]
  },
  {
   "cell_type": "markdown",
   "metadata": {},
   "source": [
    "## 1. Project Description\n",
    "Describe:\n",
    "* What is your project?\n",
    "* What mathematical foundations you should have?\n",
    "* What are the applications?\n",
    "\n",
    "## 2. Project Foundations\n",
    "* Describe the mathematical theory behind your presentation."
   ]
  },
  {
   "cell_type": "markdown",
   "metadata": {},
   "source": [
    "## 3. Implementation\n",
    "Present the functions you've implemented with the correct documentation for each one. A good example of an implementation is this one:\n",
    "\n",
    "```python\n",
    "def mean(x):\n",
    "    \"\"\" \n",
    "    Function that calculates the mean of an input signal x.\n",
    "  \n",
    "    Parameters: \n",
    "    x (numpy array): Array of numbers representing the input signal.\n",
    "  \n",
    "    Returns: \n",
    "    float: Returns mean of a input signal x\n",
    "    \"\"\"\n",
    "    N = x.shape[0]\n",
    "    acc = 0\n",
    "    \n",
    "    for i in range(N):\n",
    "        acc = acc + x[i][0]\n",
    "    return acc/N\n",
    "```\n",
    "\n",
    "Avoid functions that looks like this:\n",
    "\n",
    "```python\n",
    "def mean(x):\n",
    "    var1 = x.shape[0]\n",
    "    var2 = 0\n",
    "    \n",
    "    for i in range(var1):\n",
    "        var2 = var2 + x[i][0]\n",
    "    return var2/var1\n",
    "```"
   ]
  },
  {
   "cell_type": "markdown",
   "metadata": {},
   "source": [
    "## 4. Project Integration\n",
    "Present the whole project, for example, if you are going to calculate the Running Statistics of an input signal, you should have the complete project integration in this part. You can add plots, graphs, etc. in this part in order to make your notebook more understandable.\n",
    "\n",
    "In here it is expected that your code looks like this:\n",
    "\n",
    "```python\n",
    "N = x.shape[0]\n",
    "statistics = Running_Statistics()\n",
    "\n",
    "mean_acc = []\n",
    "var_acc = []\n",
    "std_acc = []\n",
    "\n",
    "for i in range(N):\n",
    "    mean_, var_, std_ = statistics.run(x[i][0])\n",
    "    mean_acc.append(mean_)\n",
    "    var_acc.append(var_)\n",
    "    std_acc.append(std_)\n",
    "```"
   ]
  },
  {
   "cell_type": "markdown",
   "metadata": {},
   "source": [
    "## 5. Final Results\n",
    "In this part it is expected that you implement your code as an complete class or function and you call it as simple statements. Expected code should look like this:\n",
    "\n",
    "```python\n",
    "mean, var, std = statistics.running_statistics(x)\n",
    "```"
   ]
  },
  {
   "cell_type": "markdown",
   "metadata": {},
   "source": [
    "## 6. Conclusions\n",
    "Report your conclusions and what other readers should appreciate of what you have done."
   ]
  },
  {
   "cell_type": "markdown",
   "metadata": {},
   "source": [
    "## 7. Bibliography"
   ]
  },
  {
   "cell_type": "code",
   "execution_count": null,
   "metadata": {},
   "outputs": [],
   "source": []
  }
 ],
 "metadata": {
  "kernelspec": {
   "display_name": "Python 3",
   "language": "python",
   "name": "python3"
  },
  "language_info": {
   "codemirror_mode": {
    "name": "ipython",
    "version": 3
   },
   "file_extension": ".py",
   "mimetype": "text/x-python",
   "name": "python",
   "nbconvert_exporter": "python",
   "pygments_lexer": "ipython3",
   "version": "3.8.3"
  }
 },
 "nbformat": 4,
 "nbformat_minor": 4
}
